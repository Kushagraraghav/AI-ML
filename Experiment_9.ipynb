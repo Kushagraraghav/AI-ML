{
  "nbformat": 4,
  "nbformat_minor": 0,
  "metadata": {
    "colab": {
      "provenance": [],
      "include_colab_link": true
    },
    "kernelspec": {
      "name": "python3",
      "display_name": "Python 3"
    },
    "language_info": {
      "name": "python"
    }
  },
  "cells": [
    {
      "cell_type": "markdown",
      "metadata": {
        "id": "view-in-github",
        "colab_type": "text"
      },
      "source": [
        "<a href=\"https://colab.research.google.com/github/Kushagraraghav/AI-ML/blob/main/Experiment_9.ipynb\" target=\"_parent\"><img src=\"https://colab.research.google.com/assets/colab-badge.svg\" alt=\"Open In Colab\"/></a>"
      ]
    },
    {
      "cell_type": "markdown",
      "source": [
        " Implement Dimensionality reduction using Principal Component Analysis (PCA) method."
      ],
      "metadata": {
        "id": "bO97vw7SrqLJ"
      }
    },
    {
      "cell_type": "code",
      "source": [
        "# Import necessary libraries\n",
        "import numpy as np\n",
        "import pandas as pd\n",
        "from sklearn.decomposition import PCA\n",
        "from sklearn.preprocessing import StandardScaler\n",
        "import matplotlib.pyplot as plt"
      ],
      "metadata": {
        "id": "lh24l5oAsnI_"
      },
      "execution_count": 1,
      "outputs": []
    },
    {
      "cell_type": "code",
      "source": [
        "# Generate self-created data (5 features, 100 samples)\n",
        "np.random.seed(42)  # For reproducibility\n",
        "data = np.random.rand(100, 5) * 100  # Random numbers scaled to a range"
      ],
      "metadata": {
        "id": "_f9gJXYksrcN"
      },
      "execution_count": 2,
      "outputs": []
    },
    {
      "cell_type": "code",
      "source": [
        "# Convert data to a DataFrame for better visualization\n",
        "columns = ['Feature1', 'Feature2', 'Feature3', 'Feature4', 'Feature5']\n",
        "df = pd.DataFrame(data, columns=columns)"
      ],
      "metadata": {
        "id": "KVN8D4ens4ar"
      },
      "execution_count": 3,
      "outputs": []
    },
    {
      "cell_type": "code",
      "source": [
        "# Display the first few rows of the data\n",
        "print(\"Original Data:\")\n",
        "print(df.head())"
      ],
      "metadata": {
        "colab": {
          "base_uri": "https://localhost:8080/"
        },
        "id": "SNNwwNrWs-Ba",
        "outputId": "d296e98d-5037-4245-c9a6-ee097803c5b1"
      },
      "execution_count": 4,
      "outputs": [
        {
          "output_type": "stream",
          "name": "stdout",
          "text": [
            "Original Data:\n",
            "    Feature1   Feature2   Feature3   Feature4   Feature5\n",
            "0  37.454012  95.071431  73.199394  59.865848  15.601864\n",
            "1  15.599452   5.808361  86.617615  60.111501  70.807258\n",
            "2   2.058449  96.990985  83.244264  21.233911  18.182497\n",
            "3  18.340451  30.424224  52.475643  43.194502  29.122914\n",
            "4  61.185289  13.949386  29.214465  36.636184  45.606998\n"
          ]
        }
      ]
    },
    {
      "cell_type": "code",
      "source": [
        "# Standardize the data\n",
        "scaler = StandardScaler()\n",
        "data_standardized = scaler.fit_transform(df)"
      ],
      "metadata": {
        "id": "GGxwEzbWtCFV"
      },
      "execution_count": 5,
      "outputs": []
    },
    {
      "cell_type": "code",
      "source": [
        "# Apply PCA\n",
        "pca = PCA(n_components=2)  # Reduce to 2 dimensions\n",
        "principal_components = pca.fit_transform(data_standardized)\n"
      ],
      "metadata": {
        "id": "8OcwJiaftESJ"
      },
      "execution_count": 6,
      "outputs": []
    },
    {
      "cell_type": "code",
      "source": [
        "# Create a DataFrame for the principal components\n",
        "pca_df = pd.DataFrame(data=principal_components, columns=['Principal Component 1', 'Principal Component 2'])"
      ],
      "metadata": {
        "id": "-t6G5VMYtb29"
      },
      "execution_count": 7,
      "outputs": []
    },
    {
      "cell_type": "code",
      "source": [
        "# Display the reduced data\n",
        "print(\"\\nReduced Data (Principal Components):\")\n",
        "print(pca_df.head())"
      ],
      "metadata": {
        "colab": {
          "base_uri": "https://localhost:8080/"
        },
        "id": "AlBgsn5atcWg",
        "outputId": "34699348-1c4e-4ebe-c52f-9141e730c144"
      },
      "execution_count": 8,
      "outputs": [
        {
          "output_type": "stream",
          "name": "stdout",
          "text": [
            "\n",
            "Reduced Data (Principal Components):\n",
            "   Principal Component 1  Principal Component 2\n",
            "0               1.485848               0.105171\n",
            "1               0.090878               1.465542\n",
            "2               2.802347               0.297502\n",
            "3               0.549662               0.022572\n",
            "4              -0.846820              -0.759975\n"
          ]
        }
      ]
    },
    {
      "cell_type": "code",
      "source": [
        "# Explained variance ratio\n",
        "explained_variance = pca.explained_variance_ratio_\n",
        "print(\"\\nExplained Variance Ratio:\", explained_variance)"
      ],
      "metadata": {
        "colab": {
          "base_uri": "https://localhost:8080/"
        },
        "id": "1oGEzQoCtmDi",
        "outputId": "1857191f-8bc5-4bba-d33b-0fadf662b83a"
      },
      "execution_count": 9,
      "outputs": [
        {
          "output_type": "stream",
          "name": "stdout",
          "text": [
            "\n",
            "Explained Variance Ratio: [0.29005782 0.23214006]\n"
          ]
        }
      ]
    },
    {
      "cell_type": "code",
      "source": [
        "# Visualization of the two principal components\n",
        "plt.figure(figsize=(8, 6))\n",
        "plt.scatter(pca_df['Principal Component 1'], pca_df['Principal Component 2'], c='blue', alpha=0.7)\n",
        "plt.title('PCA - 2D Visualization of Data')\n",
        "plt.xlabel('Principal Component 1')\n",
        "plt.ylabel('Principal Component 2')\n",
        "plt.grid()\n",
        "plt.show()"
      ],
      "metadata": {
        "colab": {
          "base_uri": "https://localhost:8080/",
          "height": 564
        },
        "id": "ZoGzuLretrnh",
        "outputId": "a1c905bf-3c15-44b6-c4f6-77035097f589"
      },
      "execution_count": 10,
      "outputs": [
        {
          "output_type": "display_data",
          "data": {
            "text/plain": [
              "<Figure size 800x600 with 1 Axes>"
            ],
            "image/png": "[encoded data removed]"
          },
          "metadata": {}
        }
      ]
    }
  ]
}