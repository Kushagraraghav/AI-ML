{
  "nbformat": 4,
  "nbformat_minor": 0,
  "metadata": {
    "colab": {
      "provenance": [],
      "authorship_tag": "ABX9TyPv9RG+nR7fw6o/Ux9wE5gQ",
      "include_colab_link": true
    },
    "kernelspec": {
      "name": "python3",
      "display_name": "Python 3"
    },
    "language_info": {
      "name": "python"
    }
  },
  "cells": [
    {
      "cell_type": "markdown",
      "metadata": {
        "id": "view-in-github",
        "colab_type": "text"
      },
      "source": [
        "<a href=\"https://colab.research.google.com/github/Kushagraraghav/AI-ML/blob/main/lab4.ipynb\" target=\"_parent\"><img src=\"https://colab.research.google.com/assets/colab-badge.svg\" alt=\"Open In Colab\"/></a>"
      ]
    },
    {
      "cell_type": "code",
      "execution_count": 1,
      "metadata": {
        "id": "tnIk1GDuDzyW"
      },
      "outputs": [],
      "source": [
        "import pandas as pd\n",
        "from sklearn.preprocessing import StandardScaler, OneHotEncoder\n",
        "#This imports the StandardScaler and OneHot Encoder classes from sklearn.preprocessing.\n",
        "#StandardScaler is used for feature scaling (normalizing numerical data),\n",
        "# and OneHotEncoder is used for converting categorical variables into a format suitable for machine learning (one-hot encoding)."
      ]
    },
    {
      "cell_type": "markdown",
      "source": [
        "implement feature scaling and one hot encding data preprocessing techniques on any dataset"
      ],
      "metadata": {
        "id": "IxLo0-40MD-8"
      }
    },
    {
      "cell_type": "code",
      "source": [
        "data={\n",
        "    'color': ['red','green','blue','red'],\n",
        "    'size': [10, 15, 20, 12],\n",
        "    'price': [20, 30, 40, 25],\n",
        "}\n",
        "df=pd.DataFrame(data)"
      ],
      "metadata": {
        "id": "t5glsD0cEPr4"
      },
      "execution_count": 2,
      "outputs": []
    },
    {
      "cell_type": "code",
      "source": [
        "#Display the original data\n",
        "print('Original Dataframe:')\n",
        "print(df, \"\\n\")\n",
        "\n",
        "#print(\"Otiginal Dataframe\"): his prints a meassage that introduces th eorin=ginal Dataframe\n",
        "#print(df, \"\\n\");"
      ],
      "metadata": {
        "colab": {
          "base_uri": "https://localhost:8080/"
        },
        "id": "uYAGPvABEf4q",
        "outputId": "ff63f7dd-80e3-4b8c-d091-539b6dad7705"
      },
      "execution_count": 3,
      "outputs": [
        {
          "output_type": "stream",
          "name": "stdout",
          "text": [
            "Original Dataframe:\n",
            "   color  size  price\n",
            "0    red    10     20\n",
            "1  green    15     30\n",
            "2   blue    20     40\n",
            "3    red    12     25 \n",
            "\n"
          ]
        }
      ]
    },
    {
      "cell_type": "code",
      "source": [
        "#Feature scaling\n",
        "scaler= StandardScaler()\n",
        "df[['Size','price']]=scaler.fit_transform(df[['size','price']])"
      ],
      "metadata": {
        "id": "a0GXMkCFEj0-"
      },
      "execution_count": 5,
      "outputs": []
    },
    {
      "cell_type": "code",
      "source": [
        "#Display scaled data\n",
        "print('Dataframe after Feature Scaling (StandardScaler):')\n",
        "print(df,\"\\n\")"
      ],
      "metadata": {
        "colab": {
          "base_uri": "https://localhost:8080/"
        },
        "id": "wD5PbFbgFRbM",
        "outputId": "ed9a4373-cdf9-4c29-b8b6-2c86a938e5fb"
      },
      "execution_count": 6,
      "outputs": [
        {
          "output_type": "stream",
          "name": "stdout",
          "text": [
            "Dataframe after Feature Scaling (StandardScaler):\n",
            "   color  size     price      Size\n",
            "0    red    10 -1.183216 -1.128330\n",
            "1  green    15  0.169031  0.199117\n",
            "2   blue    20  1.521278  1.526564\n",
            "3    red    12 -0.507093 -0.597351 \n",
            "\n"
          ]
        }
      ]
    },
    {
      "cell_type": "code",
      "source": [
        "# one hot encoding\n",
        "encoder = OneHotEncoder()\n",
        "encoded_data = encoder.fit_transform(df[['color']]).toarray()\n",
        "encoded_df=pd.DataFrame(encoded_data,columns=encoder.get_feature_names_out(['color']))"
      ],
      "metadata": {
        "id": "OBZ1mivqIbKN"
      },
      "execution_count": 10,
      "outputs": []
    },
    {
      "cell_type": "code",
      "source": [
        "print(encoded_df,\"\\n\")"
      ],
      "metadata": {
        "colab": {
          "base_uri": "https://localhost:8080/"
        },
        "id": "_8ZL8xfmJkyI",
        "outputId": "eda6df14-8be7-4fa7-df72-918dc82f96d7"
      },
      "execution_count": 11,
      "outputs": [
        {
          "output_type": "stream",
          "name": "stdout",
          "text": [
            "   color_blue  color_green  color_red\n",
            "0         0.0          0.0        1.0\n",
            "1         0.0          1.0        0.0\n",
            "2         1.0          0.0        0.0\n",
            "3         0.0          0.0        1.0 \n",
            "\n"
          ]
        }
      ]
    },
    {
      "cell_type": "code",
      "source": [
        "print(\"one-hot Encoded DataFrme:\")\n",
        "print(encoded_data,\"\\n\")"
      ],
      "metadata": {
        "colab": {
          "base_uri": "https://localhost:8080/"
        },
        "id": "wL4PH48gI6Da",
        "outputId": "cdac0ce2-2f4d-4e68-fc9b-ecd6a5954e2d"
      },
      "execution_count": 8,
      "outputs": [
        {
          "output_type": "stream",
          "name": "stdout",
          "text": [
            "one-hot Encoded DataFrme:\n",
            "[[0. 0. 1.]\n",
            " [0. 1. 0.]\n",
            " [1. 0. 0.]\n",
            " [0. 0. 1.]] \n",
            "\n"
          ]
        }
      ]
    },
    {
      "cell_type": "code",
      "source": [
        "#Merge encoded data with original dataframe\n",
        "final_df=pd.concat([df.drop('color',axis=1),encoded_df],axis=1)"
      ],
      "metadata": {
        "id": "OcLRbIzwJ4ZV"
      },
      "execution_count": 13,
      "outputs": []
    },
    {
      "cell_type": "code",
      "source": [
        "#Display final dataframe\n",
        "print(\"Fianl Dataframe after merging One -hot Encided data:\")\n",
        "print(final_df)"
      ],
      "metadata": {
        "colab": {
          "base_uri": "https://localhost:8080/"
        },
        "id": "JjdBFtE5K6sa",
        "outputId": "b1479cb8-a0f5-454b-d502-78d6ef7a53da"
      },
      "execution_count": 14,
      "outputs": [
        {
          "output_type": "stream",
          "name": "stdout",
          "text": [
            "Fianl Dataframe after merging One -hot Encided data:\n",
            "   size     price      Size  color_blue  color_green  color_red\n",
            "0    10 -1.183216 -1.128330         0.0          0.0        1.0\n",
            "1    15  0.169031  0.199117         0.0          1.0        0.0\n",
            "2    20  1.521278  1.526564         1.0          0.0        0.0\n",
            "3    12 -0.507093 -0.597351         0.0          0.0        1.0\n"
          ]
        }
      ]
    }
  ]
}